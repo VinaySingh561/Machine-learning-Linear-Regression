{
  "nbformat": 4,
  "nbformat_minor": 0,
  "metadata": {
    "colab": {
      "provenance": [],
      "authorship_tag": "ABX9TyMhm6CgUHelRBvvhWVq+Yrn",
      "include_colab_link": true
    },
    "kernelspec": {
      "name": "python3",
      "display_name": "Python 3"
    },
    "language_info": {
      "name": "python"
    }
  },
  "cells": [
    {
      "cell_type": "markdown",
      "metadata": {
        "id": "view-in-github",
        "colab_type": "text"
      },
      "source": [
        "<a href=\"https://colab.research.google.com/github/VinaySingh561/Machine-learning-Linear-Regression/blob/main/Implementing_Lasso_and_Ridge_regression.ipynb\" target=\"_parent\"><img src=\"https://colab.research.google.com/assets/colab-badge.svg\" alt=\"Open In Colab\"/></a>"
      ]
    },
    {
      "cell_type": "code",
      "execution_count": 18,
      "metadata": {
        "id": "sN8GiSW8sSOG"
      },
      "outputs": [],
      "source": [
        "import torch\n",
        "import torch.nn as nn\n",
        "import torch.optim as optim\n",
        "import numpy as np"
      ]
    },
    {
      "cell_type": "markdown",
      "source": [
        "#### Creating Synthetic Dataset"
      ],
      "metadata": {
        "id": "kbDHKbZbspLB"
      }
    },
    {
      "cell_type": "code",
      "source": [
        "np.random.seed(42)\n",
        "X = np.random.rand(100,3) ## 100 samples and 3 features\n",
        "Y = 2*X[:,0] + 4.0*X[:,1]+ 5.5*X[:,2]+np.random.rand(100)\n"
      ],
      "metadata": {
        "id": "AzkCf_iusiRl"
      },
      "execution_count": 59,
      "outputs": []
    },
    {
      "cell_type": "code",
      "source": [
        "### converting dataset into tensor\n",
        "X = torch.tensor(X,dtype = torch.float32)\n",
        "Y = torch.tensor(Y, dtype = torch.float32)"
      ],
      "metadata": {
        "id": "ITRY0M4KteXY"
      },
      "execution_count": 60,
      "outputs": []
    },
    {
      "cell_type": "markdown",
      "source": [
        "### Linear model"
      ],
      "metadata": {
        "id": "lBDJOKadt0Lm"
      }
    },
    {
      "cell_type": "code",
      "source": [
        "class LinearRegression(nn.Module):\n",
        "  def __init__(self, dim):\n",
        "    super(LinearRegression, self).__init__()\n",
        "    self.linear  = nn.Linear(dim,1)\n",
        "\n",
        "  def forward(self,x):\n",
        "    return self.linear(x)\n",
        "\n",
        "\n"
      ],
      "metadata": {
        "id": "mlVjmvkatwj6"
      },
      "execution_count": 53,
      "outputs": []
    },
    {
      "cell_type": "code",
      "source": [
        "input_dim  = X.shape[1]\n",
        "model = LinearRegression(input_dim)"
      ],
      "metadata": {
        "id": "YIl64CO4-yFX"
      },
      "execution_count": 61,
      "outputs": []
    },
    {
      "cell_type": "code",
      "source": [
        "def LassoRegression(X,Y,model, lambda_lasso):\n",
        "  pred = model(X)\n",
        "  cost_mse = nn.MSELoss()(Y,pred)\n",
        "  l1_reg = torch.tensor(0.0, requires_grad = True)\n",
        "  for param in model.parameters():\n",
        "    l1_reg = l1_reg + torch.sum(torch.abs(param))\n",
        "\n",
        "  cost = cost_mse + lambda_lasso**l1_reg\n",
        "  return cost\n",
        "\n",
        "\n",
        "def RidgeRegression(X,Y,model, lambda_ridge):\n",
        "  pred = model(X)\n",
        "  cost_mse = nn.MSELoss()(Y,pred)\n",
        "  l2_reg = torch.tensor(0.0, requires_grad = True)\n",
        "  for param in model.parameters():\n",
        "    l2_reg =  l2_reg + torch.sum((param**2))\n",
        "\n",
        "  cost = cost_mse + lambda_ridge*l2_reg\n",
        "  return cost\n",
        "\n"
      ],
      "metadata": {
        "id": "2v56sTHq-8C5"
      },
      "execution_count": 55,
      "outputs": []
    },
    {
      "cell_type": "markdown",
      "source": [
        "### Training the modeel\n",
        ""
      ],
      "metadata": {
        "id": "Os6sH8ZdC1BT"
      }
    },
    {
      "cell_type": "code",
      "source": [
        "### Hyperparameter defining\n",
        "learning_rate = 0.01\n",
        "lasso_ = 0.1\n",
        "ridge_ = 0.1\n",
        "num_epochs = 100\n",
        "\n",
        "optimizer = optim.SGD(model.parameters(),lr = learning_rate)\n",
        "\n",
        "for epoch in range(num_epochs):\n",
        "  loss = LassoRegression(X,Y,model,lasso_)\n",
        "\n",
        "  optimizer.zero_grad()\n",
        "  loss.backward()\n",
        "  optimizer.step()\n",
        "\n",
        "  if (epoch+1)%10 == 0:\n",
        "    print(f\" Epoch : [{epoch}/{num_epochs}] loss : {loss.item():.4f}\",)\n",
        "\n",
        "\n",
        "\n"
      ],
      "metadata": {
        "colab": {
          "base_uri": "https://localhost:8080/"
        },
        "id": "T-NIQN4XCQMr",
        "outputId": "14f02a01-56c4-43ce-d7e5-d3b8bb3f09db"
      },
      "execution_count": 50,
      "outputs": [
        {
          "output_type": "stream",
          "name": "stdout",
          "text": [
            " Epoch : [9/100] loss : 21.1213\n",
            " Epoch : [19/100] loss : 12.8939\n",
            " Epoch : [29/100] loss : 8.8906\n",
            " Epoch : [39/100] loss : 6.9384\n",
            " Epoch : [49/100] loss : 5.9828\n",
            " Epoch : [59/100] loss : 5.5114\n",
            " Epoch : [69/100] loss : 5.2753\n",
            " Epoch : [79/100] loss : 5.1536\n",
            " Epoch : [89/100] loss : 5.0876\n",
            " Epoch : [99/100] loss : 5.0489\n"
          ]
        }
      ]
    },
    {
      "cell_type": "code",
      "source": [
        "learning_rate = 0.01\n",
        "lasso_ = 0.1\n",
        "ridge_ = 0.1\n",
        "num_epochs = 100\n",
        "\n",
        "optimizer = optim.SGD(model.parameters(),lr = learning_rate)\n",
        "for epoch in range(num_epochs):\n",
        "  loss = RidgeRegression(X,Y,model,lasso_)\n",
        "\n",
        "  optimizer.zero_grad()\n",
        "  loss.backward()\n",
        "  optimizer.step()\n",
        "\n",
        "  if (epoch+1)%10 == 0:\n",
        "    print(f\" Epoch : [{epoch}/{num_epochs}] loss : {loss.item():.4f}\",)\n",
        "\n"
      ],
      "metadata": {
        "colab": {
          "base_uri": "https://localhost:8080/"
        },
        "id": "_BljwXBYLTuL",
        "outputId": "509609cd-1be8-491a-cb66-c867b7bd0a0e"
      },
      "execution_count": 58,
      "outputs": [
        {
          "output_type": "stream",
          "name": "stdout",
          "text": [
            " Epoch : [9/100] loss : 25.5407\n",
            " Epoch : [19/100] loss : 15.7461\n",
            " Epoch : [29/100] loss : 11.1721\n",
            " Epoch : [39/100] loss : 9.0315\n",
            " Epoch : [49/100] loss : 8.0254\n",
            " Epoch : [59/100] loss : 7.5484\n",
            " Epoch : [69/100] loss : 7.3185\n",
            " Epoch : [79/100] loss : 7.2042\n",
            " Epoch : [89/100] loss : 7.1441\n",
            " Epoch : [99/100] loss : 7.1098\n"
          ]
        }
      ]
    },
    {
      "cell_type": "markdown",
      "source": [
        "### Without regularizer"
      ],
      "metadata": {
        "id": "cfxSJKikQKqY"
      }
    },
    {
      "cell_type": "code",
      "source": [
        "learning_rate = 0.01\n",
        "num_epochs = 100\n",
        "\n",
        "optimizer = optim.SGD(model.parameters(),lr = learning_rate)\n",
        "\n",
        "for epoch in range(num_epochs):\n",
        "  pred  = model(X)\n",
        "  loss = nn.MSELoss()(Y,pred)\n",
        "\n",
        "  optimizer.zero_grad()\n",
        "  loss.backward()\n",
        "  optimizer.step()\n",
        "\n",
        "  if (epoch+1)%10 == 0:\n",
        "    print(f\" Epoch : [{epoch}/{num_epochs}] loss : {loss.item():.4f}\",)\n"
      ],
      "metadata": {
        "colab": {
          "base_uri": "https://localhost:8080/"
        },
        "id": "rQYyNrJDPxVH",
        "outputId": "46bee383-42a7-4b0c-f2e9-56cf7c1571dd"
      },
      "execution_count": 62,
      "outputs": [
        {
          "output_type": "stream",
          "name": "stdout",
          "text": [
            " Epoch : [9/100] loss : 27.2007\n",
            " Epoch : [19/100] loss : 15.7799\n",
            " Epoch : [29/100] loss : 10.2254\n",
            " Epoch : [39/100] loss : 7.5206\n",
            " Epoch : [49/100] loss : 6.2002\n",
            " Epoch : [59/100] loss : 5.5523\n",
            " Epoch : [69/100] loss : 5.2313\n",
            " Epoch : [79/100] loss : 5.0692\n",
            " Epoch : [89/100] loss : 4.9843\n",
            " Epoch : [99/100] loss : 4.9372\n"
          ]
        },
        {
          "output_type": "stream",
          "name": "stderr",
          "text": [
            "/usr/local/lib/python3.10/dist-packages/torch/nn/modules/loss.py:536: UserWarning: Using a target size (torch.Size([100, 1])) that is different to the input size (torch.Size([100])). This will likely lead to incorrect results due to broadcasting. Please ensure they have the same size.\n",
            "  return F.mse_loss(input, target, reduction=self.reduction)\n"
          ]
        }
      ]
    },
    {
      "cell_type": "code",
      "source": [],
      "metadata": {
        "id": "uwwbe8J5QhOV"
      },
      "execution_count": null,
      "outputs": []
    }
  ]
}